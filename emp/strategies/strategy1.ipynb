{
 "cells": [
  {
   "cell_type": "code",
   "execution_count": 8,
   "metadata": {},
   "outputs": [
    {
     "name": "stdout",
     "output_type": "stream",
     "text": [
      "0\n"
     ]
    }
   ],
   "source": [
    "from dotenv import load_dotenv\n",
    "import pandas as pd\n",
    "import pandas_ta as ta\n",
    "import matplotlib.pyplot as plt\n",
    "\n",
    "from eth_rpc import PrivateKeyWallet\n",
    "from emp.orderly.utils import from_address\n",
    "from emp.orderly import (\n",
    "    Strategy, EmpOrderly,\n",
    "    crossover, plot_heatmaps,\n",
    "    EMA, SMA, SLOPE, CHOP,\n",
    "    EmpyrealOrderlySDK,\n",
    ")\n",
    "from emp.orderly_types import PerpetualAssetType, Interval\n",
    "from emp.orderly.onboarding.faucet import request_testnet_funds\n",
    "\n",
    "load_dotenv()\n",
    "\n",
    "wallet = PrivateKeyWallet.create_new()\n",
    "orderly_id = from_address(wallet.address)\n",
    "\n",
    "sdk = EmpyrealOrderlySDK(pvt_hex=wallet.private_key, account_id=orderly_id, is_testnet=True)\n",
    "\n",
    "# get some testnet USDC from the faucet\n",
    "await request_testnet_funds(wallet)\n",
    "print(await wallet.balance())"
   ]
  },
  {
   "cell_type": "code",
   "execution_count": 11,
   "metadata": {},
   "outputs": [
    {
     "name": "stdout",
     "output_type": "stream",
     "text": [
      "                        open     high      low    close  volume_asset  volume\n",
      "timestamp                                                                    \n",
      "2024-09-23 09:15:00  62863.5  62863.5  62863.5  62863.5           0.0     0.0\n",
      "2024-09-23 09:20:00  62863.5  62863.5  62863.5  62863.5           0.0     0.0\n",
      "2024-09-23 09:25:00  62863.5  62863.5  62863.5  62863.5           0.0     0.0\n",
      "2024-09-23 09:30:00  62863.5  62863.5  62863.5  62863.5           0.0     0.0\n",
      "2024-09-23 09:35:00  62863.5  62863.5  62863.5  62863.5           0.0     0.0\n"
     ]
    },
    {
     "name": "stderr",
     "output_type": "stream",
     "text": [
      "/workspaces/orderly-test-ground/emp/orderly/backtest/backtesting.py:1175: UserWarning: Some prices are larger than initial cash value. Note that fractional trading is not supported. If you want to trade Bitcoin, increase initial cash, or trade μBTC or satoshis instead (GH-134).\n",
      "  self._init_data(self._history)\n"
     ]
    }
   ],
   "source": [
    "class EMSB(Strategy):\n",
    "    order_size: float = 0.5\n",
    "    nine_days_length: int = 9\n",
    "    fourteen_days_length: int = 14\n",
    "    length: int = 14\n",
    "    \n",
    "    @classmethod\n",
    "    def update_lags(cls, nine_days_length, fourteen_days_length, length):\n",
    "        cls.nine_days_length = nine_days_length\n",
    "        cls.fourteen_days_length = fourteen_days_length\n",
    "        cls.length = length\n",
    "\n",
    "    def init(self):\n",
    "        close = self.data.close\n",
    "        self.ema_nine_days = self.I(EMA, close, self.nine_days_length)\n",
    "        self.ema_fourteen_days = self.I(EMA, close, self.fourteen_days_length)\n",
    "        self.slope = self.I(SLOPE, close, self.length)\n",
    "\n",
    "    def next(self):\n",
    "        if (\n",
    "            crossover(self.ema_nine_days, self.ema_fourteen_days) &\n",
    "            (self.slope > 15)\n",
    "        ):\n",
    "            self.position.close()\n",
    "            self.buy(size=self.order_size)\n",
    "        elif (\n",
    "            crossover(self.ema_fourteen_days, self.ema_nine_days) &\n",
    "            (self.slope < -15)\n",
    "        ):\n",
    "            self.position.close()\n",
    "            self.sell(size=self.order_size)\n",
    "\n",
    "\n",
    "tester = EmpOrderly(\n",
    "    cash=1000,\n",
    "    commission=.0001,\n",
    "    exclusive_orders=True,\n",
    "    sdk=sdk,\n",
    ")\n",
    "\n",
    "# load strategy and data\n",
    "tester.set_strategy(EMSB)\n",
    "await tester.load_data(\n",
    "    lookback=14,\n",
    "    interval=Interval.five_minute,\n",
    "    asset=PerpetualAssetType.BTC,\n",
    ")\n",
    "print(tester._history.head())\n",
    "tester.backtest()\n",
    "plt.show()"
   ]
  }
 ],
 "metadata": {
  "kernelspec": {
   "display_name": "emp-qPDmLQk2-py3.12",
   "language": "python",
   "name": "python3"
  },
  "language_info": {
   "codemirror_mode": {
    "name": "ipython",
    "version": 3
   },
   "file_extension": ".py",
   "mimetype": "text/x-python",
   "name": "python",
   "nbconvert_exporter": "python",
   "pygments_lexer": "ipython3",
   "version": "3.12.1"
  }
 },
 "nbformat": 4,
 "nbformat_minor": 2
}
