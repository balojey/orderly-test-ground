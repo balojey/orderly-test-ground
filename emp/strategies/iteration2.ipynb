{
 "cells": [
  {
   "cell_type": "code",
   "execution_count": 1,
   "metadata": {
    "metadata": {}
   },
   "outputs": [
    {
     "data": {
      "text/plain": [
       "False"
      ]
     },
     "execution_count": 1,
     "metadata": {},
     "output_type": "execute_result"
    }
   ],
   "source": [
    "from dotenv import load_dotenv\n",
    "import pandas as pd\n",
    "import matplotlib.pyplot as plt\n",
    "\n",
    "from eth_rpc import PrivateKeyWallet\n",
    "from emp.orderly.utils import from_address\n",
    "from emp.orderly import (\n",
    "    Strategy, EmpOrderly,\n",
    "    crossover, plot_heatmaps,\n",
    "    EMA, SMA, SLOPE, CHOP,\n",
    "    EmpyrealOrderlySDK,\n",
    ")\n",
    "from emp.orderly_types import PerpetualAssetType, Interval, OrderType\n",
    "\n",
    "load_dotenv()"
   ]
  },
  {
   "cell_type": "code",
   "execution_count": 2,
   "metadata": {
    "metadata": {}
   },
   "outputs": [],
   "source": [
    "wallet = PrivateKeyWallet.create_new()\n",
    "orderly_id = from_address(wallet.address)\n",
    "\n",
    "sdk = EmpyrealOrderlySDK(pvt_hex=wallet.private_key, account_id=orderly_id, is_testnet=True)"
   ]
  },
  {
   "cell_type": "code",
   "execution_count": 3,
   "metadata": {
    "metadata": {}
   },
   "outputs": [
    {
     "ename": "SyntaxError",
     "evalue": "invalid syntax (502618052.py, line 22)",
     "output_type": "error",
     "traceback": [
      "\u001b[0;36m  Cell \u001b[0;32mIn[3], line 22\u001b[0;36m\u001b[0m\n\u001b[0;31m    (self.macd[\"MACD_12_26_9\"] > self.macd[\"MACDs_12_26_9\"]) &\u001b[0m\n\u001b[0m                                                              ^\u001b[0m\n\u001b[0;31mSyntaxError\u001b[0m\u001b[0;31m:\u001b[0m invalid syntax\n"
     ]
    }
   ],
   "source": [
    "class SmaCross(Strategy):\n",
    "    n1: int = 10\n",
    "    n2: int = 40\n",
    "\n",
    "    @classmethod\n",
    "    def update_lags(cls, n1, n2):\n",
    "        cls.n1 = n1\n",
    "        cls.n2 = n2\n",
    "\n",
    "    def init(self):\n",
    "        close = self.data.close\n",
    "        self.sma1 = self.I(SMA, close, self.n1)\n",
    "        self.sma2 = self.I(SMA, close, self.n2)\n",
    "\n",
    "    def next(self):\n",
    "        if crossover(self.sma1, self.sma2):\n",
    "            self.position.close()\n",
    "            self.buy(size=0.5)\n",
    "        elif crossover(self.sma2, self.sma1):\n",
    "            self.position.close()\n",
    "            self.sell(size=0.5)\n",
    "\n",
    "tester = EmpOrderly(\n",
    "    cash=1000,\n",
    "    commission=.0001,\n",
    "    exclusive_orders=True,\n",
    "    sdk=sdk,\n",
    ")\n",
    "\n",
    "# load strategy and data\n",
    "tester.set_strategy(SmaCross)\n",
    "await tester.load_data(\n",
    "    lookback=5,\n",
    "    interval=Interval.five_minute,\n",
    "    asset=PerpetualAssetType.BTC,\n",
    ")\n",
    "\n",
    "# backtest\n",
    "tester.backtest()\n",
    "\n",
    "# plot\n",
    "tester.plot(show_price_data=False)\n",
    "plt.show()"
   ]
  }
 ],
 "metadata": {
  "kernelspec": {
   "display_name": "emp-EkjZesdN-py3.12",
   "language": "python",
   "name": "python3"
  },
  "language_info": {
   "codemirror_mode": {
    "name": "ipython",
    "version": 3
   },
   "file_extension": ".py",
   "mimetype": "text/x-python",
   "name": "python",
   "nbconvert_exporter": "python",
   "pygments_lexer": "ipython3",
   "version": "3.12.1"
  }
 },
 "nbformat": 4,
 "nbformat_minor": 2
}
