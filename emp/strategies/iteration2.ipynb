{
 "cells": [
  {
   "cell_type": "code",
   "execution_count": 4,
   "metadata": {
    "metadata": {}
   },
   "outputs": [
    {
     "data": {
      "text/plain": [
       "False"
      ]
     },
     "execution_count": 4,
     "metadata": {},
     "output_type": "execute_result"
    }
   ],
   "source": [
    "from dotenv import load_dotenv\n",
    "import pandas as pd\n",
    "import matplotlib.pyplot as plt\n",
    "\n",
    "from eth_rpc import PrivateKeyWallet\n",
    "from emp.orderly.utils import from_address\n",
    "from emp.orderly import (\n",
    "    Strategy, EmpOrderly,\n",
    "    crossover, plot_heatmaps,\n",
    "    EMA, SMA, SLOPE, CHOP,\n",
    "    EmpyrealOrderlySDK,\n",
    ")\n",
    "from emp.orderly_types import PerpetualAssetType, Interval, OrderType\n",
    "\n",
    "load_dotenv()"
   ]
  },
  {
   "cell_type": "code",
   "execution_count": 5,
   "metadata": {
    "metadata": {}
   },
   "outputs": [],
   "source": [
    "wallet = PrivateKeyWallet.create_new()\n",
    "orderly_id = from_address(wallet.address)\n",
    "\n",
    "sdk = EmpyrealOrderlySDK(pvt_hex=wallet.private_key, account_id=orderly_id, is_testnet=True)"
   ]
  },
  {
   "cell_type": "code",
   "execution_count": 6,
   "metadata": {
    "metadata": {}
   },
   "outputs": [
    {
     "ename": "ValueError",
     "evalue": "{'s': 'no_data', 'o': [], 'c': [], 'h': [], 'l': [], 'v': [], 'a': [], 't': []}",
     "output_type": "error",
     "traceback": [
      "\u001b[0;31m---------------------------------------------------------------------------\u001b[0m",
      "\u001b[0;31mValueError\u001b[0m                                Traceback (most recent call last)",
      "Cell \u001b[0;32mIn[6], line 33\u001b[0m\n\u001b[1;32m     31\u001b[0m \u001b[38;5;66;03m# load strategy and data\u001b[39;00m\n\u001b[1;32m     32\u001b[0m tester\u001b[38;5;241m.\u001b[39mset_strategy(SmaCross)\n\u001b[0;32m---> 33\u001b[0m \u001b[38;5;28;01mawait\u001b[39;00m tester\u001b[38;5;241m.\u001b[39mload_data(\n\u001b[1;32m     34\u001b[0m     lookback\u001b[38;5;241m=\u001b[39m\u001b[38;5;241m5\u001b[39m,\n\u001b[1;32m     35\u001b[0m     interval\u001b[38;5;241m=\u001b[39mInterval\u001b[38;5;241m.\u001b[39mfive_minute,\n\u001b[1;32m     36\u001b[0m     asset\u001b[38;5;241m=\u001b[39mPerpetualAssetType\u001b[38;5;241m.\u001b[39mAPT,\n\u001b[1;32m     37\u001b[0m )\n\u001b[1;32m     39\u001b[0m \u001b[38;5;66;03m# backtest\u001b[39;00m\n\u001b[1;32m     40\u001b[0m tester\u001b[38;5;241m.\u001b[39mbacktest()\n",
      "File \u001b[0;32m/workspace/orderly-test-ground/emp/orderly/backtest/backtesting.py:1174\u001b[0m, in \u001b[0;36mEmpOrderly.load_data\u001b[0;34m(self, asset, lookback, interval)\u001b[0m\n\u001b[1;32m   1172\u001b[0m \u001b[38;5;28;01melse\u001b[39;00m:\n\u001b[1;32m   1173\u001b[0m     \u001b[38;5;28;01mraise\u001b[39;00m \u001b[38;5;167;01mValueError\u001b[39;00m(\u001b[38;5;124m\"\u001b[39m\u001b[38;5;124mmust provide an asset\u001b[39m\u001b[38;5;124m\"\u001b[39m)\n\u001b[0;32m-> 1174\u001b[0m \u001b[38;5;28mself\u001b[39m\u001b[38;5;241m.\u001b[39m_history \u001b[38;5;241m=\u001b[39m \u001b[38;5;28;01mawait\u001b[39;00m \u001b[38;5;28mself\u001b[39m\u001b[38;5;241m.\u001b[39msdk\u001b[38;5;241m.\u001b[39mget_ohlcv(resolution\u001b[38;5;241m=\u001b[39minterval, start_days_behind\u001b[38;5;241m=\u001b[39mlookback, asset\u001b[38;5;241m=\u001b[39m_asset)\n\u001b[1;32m   1175\u001b[0m \u001b[38;5;28mself\u001b[39m\u001b[38;5;241m.\u001b[39m_init_data(\u001b[38;5;28mself\u001b[39m\u001b[38;5;241m.\u001b[39m_history)\n\u001b[1;32m   1176\u001b[0m \u001b[38;5;28;01mreturn\u001b[39;00m \u001b[38;5;28mself\u001b[39m\n",
      "File \u001b[0;32m/workspace/orderly-test-ground/emp/orderly/history.py:47\u001b[0m, in \u001b[0;36mOrderlyHistory.get_ohlcv\u001b[0;34m(self, asset, resolution, start_days_behind, end_days_behind, scale)\u001b[0m\n\u001b[1;32m     41\u001b[0m start_time \u001b[38;5;241m=\u001b[39m \u001b[38;5;28mint\u001b[39m(\n\u001b[1;32m     42\u001b[0m     datetime\u001b[38;5;241m.\u001b[39mnow(timezone\u001b[38;5;241m.\u001b[39mutc)\u001b[38;5;241m.\u001b[39mtimestamp() \u001b[38;5;241m-\u001b[39m start_days_behind \u001b[38;5;241m*\u001b[39m \u001b[38;5;241m86_400\u001b[39m\n\u001b[1;32m     43\u001b[0m )\n\u001b[1;32m     44\u001b[0m end_time \u001b[38;5;241m=\u001b[39m \u001b[38;5;28mint\u001b[39m(\n\u001b[1;32m     45\u001b[0m     datetime\u001b[38;5;241m.\u001b[39mnow(timezone\u001b[38;5;241m.\u001b[39mutc)\u001b[38;5;241m.\u001b[39mtimestamp() \u001b[38;5;241m-\u001b[39m end_days_behind \u001b[38;5;241m*\u001b[39m \u001b[38;5;241m86_400\u001b[39m\n\u001b[1;32m     46\u001b[0m )\n\u001b[0;32m---> 47\u001b[0m res \u001b[38;5;241m=\u001b[39m \u001b[38;5;28;01mawait\u001b[39;00m \u001b[38;5;28mself\u001b[39m\u001b[38;5;241m.\u001b[39m_send_request_async(\n\u001b[1;32m     48\u001b[0m     \u001b[38;5;124m\"\u001b[39m\u001b[38;5;124mv1/tv/history\u001b[39m\u001b[38;5;124m\"\u001b[39m,\n\u001b[1;32m     49\u001b[0m     params\u001b[38;5;241m=\u001b[39m{\n\u001b[1;32m     50\u001b[0m         \u001b[38;5;124m\"\u001b[39m\u001b[38;5;124msymbol\u001b[39m\u001b[38;5;124m\"\u001b[39m: asset\u001b[38;5;241m.\u001b[39mvalue,\n\u001b[1;32m     51\u001b[0m         \u001b[38;5;124m\"\u001b[39m\u001b[38;5;124mresolution\u001b[39m\u001b[38;5;124m\"\u001b[39m: resolution,\n\u001b[1;32m     52\u001b[0m         \u001b[38;5;124m\"\u001b[39m\u001b[38;5;124mfrom\u001b[39m\u001b[38;5;124m\"\u001b[39m: start_time,\n\u001b[1;32m     53\u001b[0m         \u001b[38;5;124m\"\u001b[39m\u001b[38;5;124mto\u001b[39m\u001b[38;5;124m\"\u001b[39m: end_time,\n\u001b[1;32m     54\u001b[0m     },\n\u001b[1;32m     55\u001b[0m )\n\u001b[1;32m     57\u001b[0m timestamp \u001b[38;5;241m=\u001b[39m res[\u001b[38;5;124m\"\u001b[39m\u001b[38;5;124mt\u001b[39m\u001b[38;5;124m\"\u001b[39m]\n\u001b[1;32m     58\u001b[0m opens \u001b[38;5;241m=\u001b[39m res[\u001b[38;5;124m\"\u001b[39m\u001b[38;5;124mo\u001b[39m\u001b[38;5;124m\"\u001b[39m]\n",
      "File \u001b[0;32m/workspace/orderly-test-ground/emp/orderly/account.py:443\u001b[0m, in \u001b[0;36mEmpyrealOrderlySDK._send_request_async\u001b[0;34m(self, path, body, params, method)\u001b[0m\n\u001b[1;32m    441\u001b[0m \u001b[38;5;28;01mif\u001b[39;00m \u001b[38;5;124m\"\u001b[39m\u001b[38;5;124ms\u001b[39m\u001b[38;5;124m\"\u001b[39m \u001b[38;5;129;01min\u001b[39;00m response_json:\n\u001b[1;32m    442\u001b[0m     \u001b[38;5;28;01mif\u001b[39;00m \u001b[38;5;129;01mnot\u001b[39;00m response_json[\u001b[38;5;124m\"\u001b[39m\u001b[38;5;124ms\u001b[39m\u001b[38;5;124m\"\u001b[39m] \u001b[38;5;241m==\u001b[39m \u001b[38;5;124m\"\u001b[39m\u001b[38;5;124mok\u001b[39m\u001b[38;5;124m\"\u001b[39m:\n\u001b[0;32m--> 443\u001b[0m         \u001b[38;5;28;01mraise\u001b[39;00m \u001b[38;5;167;01mValueError\u001b[39;00m(response_json)\n\u001b[1;32m    444\u001b[0m \u001b[38;5;28;01mreturn\u001b[39;00m response_json\n",
      "\u001b[0;31mValueError\u001b[0m: {'s': 'no_data', 'o': [], 'c': [], 'h': [], 'l': [], 'v': [], 'a': [], 't': []}"
     ]
    }
   ],
   "source": [
    "class SmaCross(Strategy):\n",
    "    n1: int = 10\n",
    "    n2: int = 40\n",
    "\n",
    "    @classmethod\n",
    "    def update_lags(cls, n1, n2):\n",
    "        cls.n1 = n1\n",
    "        cls.n2 = n2\n",
    "\n",
    "    def init(self):\n",
    "        close = self.data.close\n",
    "        self.sma1 = self.I(SMA, close, self.n1)\n",
    "        self.sma2 = self.I(SMA, close, self.n2)\n",
    "\n",
    "    def next(self):\n",
    "        if crossover(self.sma1, self.sma2):\n",
    "            self.position.close()\n",
    "            self.buy(size=0.5)\n",
    "        elif crossover(self.sma2, self.sma1):\n",
    "            self.position.close()\n",
    "            self.sell(size=0.5)\n",
    "\n",
    "\n",
    "tester = EmpOrderly(\n",
    "    cash=1000,\n",
    "    commission=.0001,\n",
    "    exclusive_orders=True,\n",
    "    sdk=sdk,\n",
    ")\n",
    "\n",
    "# load strategy and data\n",
    "tester.set_strategy(SmaCross)\n",
    "await tester.load_data(\n",
    "    lookback=5,\n",
    "    interval=Interval.five_minute,\n",
    "    asset=PerpetualAssetType.APT,\n",
    ")\n",
    "\n",
    "# backtest\n",
    "tester.backtest()\n",
    "\n",
    "# plot\n",
    "tester.plot(show_price_data=False)\n",
    "plt.show()"
   ]
  }
 ],
 "metadata": {
  "kernelspec": {
   "display_name": "emp-EkjZesdN-py3.12",
   "language": "python",
   "name": "python3"
  },
  "language_info": {
   "codemirror_mode": {
    "name": "ipython",
    "version": 3
   },
   "file_extension": ".py",
   "mimetype": "text/x-python",
   "name": "python",
   "nbconvert_exporter": "python",
   "pygments_lexer": "ipython3",
   "version": "3.12.6"
  }
 },
 "nbformat": 4,
 "nbformat_minor": 2
}
