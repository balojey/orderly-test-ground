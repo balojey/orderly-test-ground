{
 "cells": [
  {
   "cell_type": "code",
   "execution_count": null,
   "metadata": {
    "metadata": {}
   },
   "outputs": [],
   "source": [
    "from eth_rpc import *\n",
    "\n",
    "# create a new wallet\n",
    "wallet = PrivateKeyWallet.create_new()\n",
    "# print your private key so you can write it down for use later\n",
    "print(wallet.address, wallet.private_key)"
   ]
  },
  {
   "cell_type": "code",
   "execution_count": null,
   "metadata": {
    "metadata": {}
   },
   "outputs": [],
   "source": [
    "from emp.orderly.onboarding import create_account, add_access_key\n",
    "\n",
    "# create a new account on orderly\n",
    "await create_account(wallet)"
   ]
  },
  {
   "cell_type": "code",
   "execution_count": 13,
   "metadata": {
    "metadata": {}
   },
   "outputs": [],
   "source": [
    "from emp.orderly.utils.ed25519 import publickey\n",
    "from base58 import b58encode\n",
    "\n",
    "# NOTE: you can make as many orderly keys as you want, but this one is generated from your\n",
    "#       wallets private key.  Keep this PRIVATE!\n",
    "key_bytes = publickey(bytes.fromhex(wallet.private_key.removeprefix(\"0x\")))\n",
    "orderly_key = \"ed25519:%s\" % b58encode(key_bytes).decode(\"utf-8\")"
   ]
  },
  {
   "cell_type": "code",
   "execution_count": null,
   "metadata": {
    "metadata": {}
   },
   "outputs": [],
   "source": [
    "# register your new orderly key as a signer for your wallet address\n",
    "await add_access_key(wallet, orderly_key)"
   ]
  },
  {
   "cell_type": "code",
   "execution_count": null,
   "metadata": {
    "metadata": {}
   },
   "outputs": [],
   "source": [
    "from emp.orderly.onboarding.faucet import request_testnet_funds\n",
    "\n",
    "# get some testnet USDC from the faucet\n",
    "await request_testnet_funds(wallet)"
   ]
  },
  {
   "cell_type": "code",
   "execution_count": 16,
   "metadata": {
    "metadata": {}
   },
   "outputs": [],
   "source": [
    "from emp.orderly import EmpyrealOrderlySDK\n",
    "from emp.orderly.utils.orderly_id import from_address\n",
    "\n",
    "# now you can initialize the SDK\n",
    "sdk = EmpyrealOrderlySDK(pvt_hex=wallet.private_key, account_id=from_address(wallet.address), is_testnet=True)"
   ]
  },
  {
   "cell_type": "code",
   "execution_count": null,
   "metadata": {
    "metadata": {}
   },
   "outputs": [],
   "source": [
    "from decimal import Decimal\n",
    "from emp.orderly_types import PerpetualAssetType, MarketInfo, OrderResponse, PositionData\n",
    "from pprint import pprint\n",
    "\n",
    "bitcoin_asset_info = await sdk.asset_info(PerpetualAssetType.BTC)\n",
    "pprint(bitcoin_asset_info)"
   ]
  },
  {
   "cell_type": "code",
   "execution_count": null,
   "metadata": {
    "metadata": {}
   },
   "outputs": [],
   "source": [
    "# this is the min tick size for an asset\n",
    "base_min = Decimal(str(bitcoin_asset_info['data']['base_min']))\n",
    "quote_tick = Decimal(str(bitcoin_asset_info['data']['quote_tick']))\n",
    "\n",
    "print(f\"base_min: {base_min}\\nquote_tick: {quote_tick}\")"
   ]
  },
  {
   "cell_type": "code",
   "execution_count": null,
   "metadata": {
    "metadata": {}
   },
   "outputs": [],
   "source": [
    "bitcoin_market_info: MarketInfo = await sdk.get_market_info(PerpetualAssetType.BTC)\n",
    "print(bitcoin_market_info)"
   ]
  },
  {
   "cell_type": "code",
   "execution_count": null,
   "metadata": {
    "metadata": {}
   },
   "outputs": [],
   "source": [
    "# the market info has information about the asset, such as its index price, mark price, vunding rates, volume, and more\n",
    "bitcoin_price = bitcoin_market_info.index_price\n",
    "print(bitcoin_price)"
   ]
  },
  {
   "cell_type": "code",
   "execution_count": null,
   "metadata": {
    "metadata": {}
   },
   "outputs": [],
   "source": [
    "# we want to buy $25, so let's divide 25 by the bitcoin price.  We're using the decimal module to keep precision in our\n",
    "# decimal numbers\n",
    "purchase_amount = (Decimal('25') / bitcoin_price).quantize(base_min)\n",
    "print(purchase_amount)"
   ]
  },
  {
   "cell_type": "code",
   "execution_count": null,
   "metadata": {
    "metadata": {}
   },
   "outputs": [],
   "source": [
    "# let's make the trade and open our position\n",
    "response: OrderResponse = await sdk.make_order( purchase_amount, PerpetualAssetType.BTC, is_buy=True)\n",
    "positions: PositionData = await sdk.positions()\n",
    "print(response, positions)"
   ]
  },
  {
   "cell_type": "code",
   "execution_count": null,
   "metadata": {
    "metadata": {}
   },
   "outputs": [],
   "source": [
    "# now we can see our current bitcoin position (assuming we have no other positions open)\n",
    "print([position for position in positions.rows if position.symbol == PerpetualAssetType.BTC])"
   ]
  },
  {
   "cell_type": "code",
   "execution_count": null,
   "metadata": {
    "metadata": {}
   },
   "outputs": [],
   "source": [
    "take_profit_price: Decimal = (bitcoin_price * Decimal('1.1')).quantize(quote_tick)\n",
    "await sdk.make_limit_order('0.0005', price=take_profit_price, asset=PerpetualAssetType.BTC, is_buy=False)\n",
    "print(take_profit_price)"
   ]
  },
  {
   "cell_type": "code",
   "execution_count": null,
   "metadata": {
    "metadata": {}
   },
   "outputs": [],
   "source": [
    "from emp.orderly_types import Order\n",
    "\n",
    "# get all unfulfilled orders to see your open bitcoin order\n",
    "orders: list[Order] = await sdk.orders(status=\"INCOMPLETE\")\n",
    "print(orders)"
   ]
  },
  {
   "cell_type": "code",
   "execution_count": null,
   "metadata": {
    "metadata": {}
   },
   "outputs": [],
   "source": [
    "# now, let's close our open limit order\n",
    "await sdk.close_orders(PerpetualAssetType.BTC)"
   ]
  },
  {
   "cell_type": "code",
   "execution_count": null,
   "metadata": {
    "metadata": {}
   },
   "outputs": [],
   "source": [
    "# and we can close our bitcoin position\n",
    "await sdk.close_position(PerpetualAssetType.BTC)"
   ]
  }
 ],
 "metadata": {
  "kernelspec": {
   "display_name": "Python 3",
   "language": "python",
   "name": "python3"
  },
  "language_info": {
   "codemirror_mode": {
    "name": "ipython",
    "version": 3
   },
   "file_extension": ".py",
   "mimetype": "text/x-python",
   "name": "python",
   "nbconvert_exporter": "python",
   "pygments_lexer": "ipython3",
   "version": "3.12.6"
  }
 },
 "nbformat": 4,
 "nbformat_minor": 2
}
